{
  "nbformat": 4,
  "nbformat_minor": 0,
  "metadata": {
    "colab": {
      "name": "IMDB.ipynb",
      "version": "0.3.2",
      "provenance": [],
      "include_colab_link": true
    },
    "kernelspec": {
      "name": "python3",
      "display_name": "Python 3"
    },
    "accelerator": "TPU"
  },
  "cells": [
    {
      "cell_type": "markdown",
      "metadata": {
        "id": "view-in-github",
        "colab_type": "text"
      },
      "source": [
        "<a href=\"https://colab.research.google.com/github/gazabAnurag/TF_BETARUNS/blob/master/IMDB.ipynb\" target=\"_parent\"><img src=\"https://colab.research.google.com/assets/colab-badge.svg\" alt=\"Open In Colab\"/></a>"
      ]
    },
    {
      "metadata": {
        "id": "ovdKNmTKofwI",
        "colab_type": "code",
        "colab": {}
      },
      "cell_type": "code",
      "source": [
        "from tensorflow import keras\n",
        "import tensorflow as tf\n",
        "import numpy as np"
      ],
      "execution_count": 0,
      "outputs": []
    },
    {
      "metadata": {
        "id": "eny579ou3PX0",
        "colab_type": "code",
        "colab": {}
      },
      "cell_type": "code",
      "source": [
        "imdb = keras.datasets.imdb\n",
        "(x_train,y_train),(x_test,y_test) = imdb.load_data(num_words=10000)"
      ],
      "execution_count": 0,
      "outputs": []
    },
    {
      "metadata": {
        "id": "eW4ByrzL4ZF2",
        "colab_type": "code",
        "colab": {}
      },
      "cell_type": "code",
      "source": [
        "word_index = imdb.get_word_index()"
      ],
      "execution_count": 0,
      "outputs": []
    },
    {
      "metadata": {
        "id": "-2RkGWMD4wxh",
        "colab_type": "code",
        "colab": {}
      },
      "cell_type": "code",
      "source": [
        "word_indices = {k:(v+3) for (k,v) in word_index.items()}\n",
        "word_indices[\"<PAD>\"]=0\n",
        "word_indices[\"<START>\"]=1\n",
        "word_indices[\"<UNK>\"]=2\n",
        "word_indices[\"<UNUSED>\"]=3\n",
        "rev_word_indices=dict([(v,k) for (k,v) in word_indices.items()])\n"
      ],
      "execution_count": 0,
      "outputs": []
    },
    {
      "metadata": {
        "id": "vnRZ4daz6Kq2",
        "colab_type": "code",
        "colab": {}
      },
      "cell_type": "code",
      "source": [
        "def decode_text(text):\n",
        "  return ' '.join([rev_word_indices.get(i,'?') for i in text])"
      ],
      "execution_count": 0,
      "outputs": []
    },
    {
      "metadata": {
        "id": "S0SYEV3o7E6z",
        "colab_type": "code",
        "colab": {
          "base_uri": "https://localhost:8080/",
          "height": 55
        },
        "outputId": "53edd9ba-6b80-4a34-cc98-9538d3e3fc0f"
      },
      "cell_type": "code",
      "source": [
        "decode_text(x_train[0])"
      ],
      "execution_count": 74,
      "outputs": [
        {
          "output_type": "execute_result",
          "data": {
            "text/plain": [
              "\"<START> this film was just brilliant casting location scenery story direction everyone's really suited the part they played and you could just imagine being there robert <UNK> is an amazing actor and now the same being director <UNK> father came from the same scottish island as myself so i loved the fact there was a real connection with this film the witty remarks throughout the film were great it was just brilliant so much that i bought the film as soon as it was released for <UNK> and would recommend it to everyone to watch and the fly fishing was amazing really cried at the end it was so sad and you know what they say if you cry at a film it must have been good and this definitely was also <UNK> to the two little boy's that played the <UNK> of norman and paul they were just brilliant children are often left out of the <UNK> list i think because the stars that play them all grown up are such a big profile for the whole film but these children are amazing and should be praised for what they have done don't you think the whole story was so lovely because it was true and was someone's life after all that was shared with us all\""
            ]
          },
          "metadata": {
            "tags": []
          },
          "execution_count": 74
        }
      ]
    },
    {
      "metadata": {
        "id": "kj17fvzw9Kh-",
        "colab_type": "code",
        "colab": {}
      },
      "cell_type": "code",
      "source": [
        "x_train = keras.preprocessing.sequence.pad_sequences(x_train,value=word_indices[\"<PAD>\"],padding='post',maxlen=256)\n",
        "x_test = keras.preprocessing.sequence.pad_sequences(x_test,value=word_indices[\"<PAD>\"],padding='post',maxlen=256)"
      ],
      "execution_count": 0,
      "outputs": []
    },
    {
      "metadata": {
        "id": "-BofLFF1C7uJ",
        "colab_type": "code",
        "colab": {
          "base_uri": "https://localhost:8080/",
          "height": 35
        },
        "outputId": "d36d1fad-6d95-413b-c432-7668f3054df2"
      },
      "cell_type": "code",
      "source": [
        "len(x_train[0])"
      ],
      "execution_count": 76,
      "outputs": [
        {
          "output_type": "execute_result",
          "data": {
            "text/plain": [
              "256"
            ]
          },
          "metadata": {
            "tags": []
          },
          "execution_count": 76
        }
      ]
    },
    {
      "metadata": {
        "id": "XelAhgw0DU6y",
        "colab_type": "code",
        "colab": {}
      },
      "cell_type": "code",
      "source": [
        "vocab_size = 10000\n",
        "model = keras.Sequential()\n",
        "model.add(keras.layers.Embedding(vocab_size,16))\n",
        "model.add(keras.layers.GlobalAveragePooling1D())\n",
        "model.add(keras.layers.Dense(16,activation=tf.nn.relu))\n",
        "model.add(keras.layers.Dense(1,activation=tf.nn.sigmoid))"
      ],
      "execution_count": 0,
      "outputs": []
    },
    {
      "metadata": {
        "id": "2Ia8uwx2E3zx",
        "colab_type": "code",
        "colab": {
          "base_uri": "https://localhost:8080/",
          "height": 284
        },
        "outputId": "b3f30366-2dae-4274-e474-2a82157293a8"
      },
      "cell_type": "code",
      "source": [
        "model.summary()"
      ],
      "execution_count": 78,
      "outputs": [
        {
          "output_type": "stream",
          "text": [
            "_________________________________________________________________\n",
            "Layer (type)                 Output Shape              Param #   \n",
            "=================================================================\n",
            "embedding_4 (Embedding)      (None, None, 16)          160000    \n",
            "_________________________________________________________________\n",
            "global_average_pooling1d_4 ( (None, 16)                0         \n",
            "_________________________________________________________________\n",
            "dense_8 (Dense)              (None, 16)                272       \n",
            "_________________________________________________________________\n",
            "dense_9 (Dense)              (None, 1)                 17        \n",
            "=================================================================\n",
            "Total params: 160,289\n",
            "Trainable params: 160,289\n",
            "Non-trainable params: 0\n",
            "_________________________________________________________________\n"
          ],
          "name": "stdout"
        }
      ]
    },
    {
      "metadata": {
        "id": "hR99VARUE8gH",
        "colab_type": "code",
        "colab": {}
      },
      "cell_type": "code",
      "source": [
        "model.compile(optimizer=tf.train.AdamOptimizer(),loss='binary_crossentropy',metrics=['accuracy'])"
      ],
      "execution_count": 0,
      "outputs": []
    },
    {
      "metadata": {
        "id": "NM49exLsIA2-",
        "colab_type": "code",
        "colab": {}
      },
      "cell_type": "code",
      "source": [
        "x_val=x_train[:10000]\n",
        "x_train_new=x_train[10000:]\n",
        "y_val=y_train[:10000]\n",
        "y_train_new=y_train[10000:]"
      ],
      "execution_count": 0,
      "outputs": []
    },
    {
      "metadata": {
        "id": "0KyeEFx3I9Js",
        "colab_type": "code",
        "colab": {
          "base_uri": "https://localhost:8080/",
          "height": 1457
        },
        "outputId": "cf929fa6-faf4-4ac3-a8cd-3b5353938718"
      },
      "cell_type": "code",
      "source": [
        "history = model.fit(x_train_new,\n",
        "                    y_train_new,\n",
        "                    epochs=40,\n",
        "                    batch_size=512,\n",
        "                    validation_data=(x_val, y_val),verbose=1)"
      ],
      "execution_count": 81,
      "outputs": [
        {
          "output_type": "stream",
          "text": [
            "Train on 15000 samples, validate on 10000 samples\n",
            "Epoch 1/40\n",
            "15000/15000 [==============================] - 2s 122us/step - loss: 0.6921 - acc: 0.5498 - val_loss: 0.6905 - val_acc: 0.6423\n",
            "Epoch 2/40\n",
            "15000/15000 [==============================] - 1s 67us/step - loss: 0.6873 - acc: 0.6700 - val_loss: 0.6842 - val_acc: 0.7343\n",
            "Epoch 3/40\n",
            "15000/15000 [==============================] - 1s 67us/step - loss: 0.6780 - acc: 0.7573 - val_loss: 0.6727 - val_acc: 0.7463\n",
            "Epoch 4/40\n",
            "15000/15000 [==============================] - 1s 69us/step - loss: 0.6612 - acc: 0.7638 - val_loss: 0.6534 - val_acc: 0.7575\n",
            "Epoch 5/40\n",
            "15000/15000 [==============================] - 1s 68us/step - loss: 0.6345 - acc: 0.7870 - val_loss: 0.6237 - val_acc: 0.7769\n",
            "Epoch 6/40\n",
            "15000/15000 [==============================] - 1s 68us/step - loss: 0.5982 - acc: 0.8021 - val_loss: 0.5872 - val_acc: 0.7910\n",
            "Epoch 7/40\n",
            "15000/15000 [==============================] - 1s 67us/step - loss: 0.5551 - acc: 0.8199 - val_loss: 0.5466 - val_acc: 0.8088\n",
            "Epoch 8/40\n",
            "15000/15000 [==============================] - 1s 67us/step - loss: 0.5095 - acc: 0.8363 - val_loss: 0.5056 - val_acc: 0.8243\n",
            "Epoch 9/40\n",
            "15000/15000 [==============================] - 1s 68us/step - loss: 0.4657 - acc: 0.8495 - val_loss: 0.4677 - val_acc: 0.8360\n",
            "Epoch 10/40\n",
            "15000/15000 [==============================] - 1s 68us/step - loss: 0.4252 - acc: 0.8643 - val_loss: 0.4345 - val_acc: 0.8439\n",
            "Epoch 11/40\n",
            "15000/15000 [==============================] - 1s 68us/step - loss: 0.3906 - acc: 0.8737 - val_loss: 0.4088 - val_acc: 0.8499\n",
            "Epoch 12/40\n",
            "15000/15000 [==============================] - 1s 68us/step - loss: 0.3609 - acc: 0.8831 - val_loss: 0.3841 - val_acc: 0.8578\n",
            "Epoch 13/40\n",
            "15000/15000 [==============================] - 1s 69us/step - loss: 0.3348 - acc: 0.8892 - val_loss: 0.3662 - val_acc: 0.8622\n",
            "Epoch 14/40\n",
            "15000/15000 [==============================] - 1s 68us/step - loss: 0.3132 - acc: 0.8950 - val_loss: 0.3504 - val_acc: 0.8682\n",
            "Epoch 15/40\n",
            "15000/15000 [==============================] - 1s 68us/step - loss: 0.2945 - acc: 0.8999 - val_loss: 0.3381 - val_acc: 0.8717\n",
            "Epoch 16/40\n",
            "15000/15000 [==============================] - 1s 67us/step - loss: 0.2786 - acc: 0.9021 - val_loss: 0.3281 - val_acc: 0.8743\n",
            "Epoch 17/40\n",
            "15000/15000 [==============================] - 1s 68us/step - loss: 0.2635 - acc: 0.9103 - val_loss: 0.3195 - val_acc: 0.8766\n",
            "Epoch 18/40\n",
            "15000/15000 [==============================] - 1s 68us/step - loss: 0.2505 - acc: 0.9146 - val_loss: 0.3124 - val_acc: 0.8790\n",
            "Epoch 19/40\n",
            "15000/15000 [==============================] - 1s 68us/step - loss: 0.2385 - acc: 0.9181 - val_loss: 0.3065 - val_acc: 0.8802\n",
            "Epoch 20/40\n",
            "15000/15000 [==============================] - 1s 68us/step - loss: 0.2280 - acc: 0.9217 - val_loss: 0.3019 - val_acc: 0.8811\n",
            "Epoch 21/40\n",
            "15000/15000 [==============================] - 1s 68us/step - loss: 0.2177 - acc: 0.9255 - val_loss: 0.2976 - val_acc: 0.8815\n",
            "Epoch 22/40\n",
            "15000/15000 [==============================] - 1s 67us/step - loss: 0.2084 - acc: 0.9284 - val_loss: 0.2946 - val_acc: 0.8826\n",
            "Epoch 23/40\n",
            "15000/15000 [==============================] - 1s 68us/step - loss: 0.1999 - acc: 0.9314 - val_loss: 0.2921 - val_acc: 0.8829\n",
            "Epoch 24/40\n",
            "15000/15000 [==============================] - 1s 68us/step - loss: 0.1914 - acc: 0.9354 - val_loss: 0.2892 - val_acc: 0.8844\n",
            "Epoch 25/40\n",
            "15000/15000 [==============================] - 1s 68us/step - loss: 0.1839 - acc: 0.9393 - val_loss: 0.2875 - val_acc: 0.8855\n",
            "Epoch 26/40\n",
            "15000/15000 [==============================] - 1s 68us/step - loss: 0.1765 - acc: 0.9418 - val_loss: 0.2864 - val_acc: 0.8852\n",
            "Epoch 27/40\n",
            "15000/15000 [==============================] - 1s 68us/step - loss: 0.1702 - acc: 0.9455 - val_loss: 0.2857 - val_acc: 0.8847\n",
            "Epoch 28/40\n",
            "15000/15000 [==============================] - 1s 67us/step - loss: 0.1636 - acc: 0.9474 - val_loss: 0.2848 - val_acc: 0.8853\n",
            "Epoch 29/40\n",
            "15000/15000 [==============================] - 1s 68us/step - loss: 0.1575 - acc: 0.9501 - val_loss: 0.2845 - val_acc: 0.8861\n",
            "Epoch 30/40\n",
            "15000/15000 [==============================] - 1s 68us/step - loss: 0.1522 - acc: 0.9514 - val_loss: 0.2849 - val_acc: 0.8861\n",
            "Epoch 31/40\n",
            "15000/15000 [==============================] - 1s 68us/step - loss: 0.1461 - acc: 0.9551 - val_loss: 0.2854 - val_acc: 0.8866\n",
            "Epoch 32/40\n",
            "15000/15000 [==============================] - 1s 68us/step - loss: 0.1411 - acc: 0.9577 - val_loss: 0.2862 - val_acc: 0.8872\n",
            "Epoch 33/40\n",
            "15000/15000 [==============================] - 1s 68us/step - loss: 0.1356 - acc: 0.9595 - val_loss: 0.2872 - val_acc: 0.8870\n",
            "Epoch 34/40\n",
            "15000/15000 [==============================] - 1s 69us/step - loss: 0.1309 - acc: 0.9615 - val_loss: 0.2883 - val_acc: 0.8870\n",
            "Epoch 35/40\n",
            "15000/15000 [==============================] - 1s 69us/step - loss: 0.1266 - acc: 0.9626 - val_loss: 0.2897 - val_acc: 0.8864\n",
            "Epoch 36/40\n",
            "15000/15000 [==============================] - 1s 68us/step - loss: 0.1215 - acc: 0.9659 - val_loss: 0.2916 - val_acc: 0.8860\n",
            "Epoch 37/40\n",
            "15000/15000 [==============================] - 1s 68us/step - loss: 0.1175 - acc: 0.9669 - val_loss: 0.2939 - val_acc: 0.8855\n",
            "Epoch 38/40\n",
            "15000/15000 [==============================] - 1s 68us/step - loss: 0.1139 - acc: 0.9676 - val_loss: 0.2951 - val_acc: 0.8856\n",
            "Epoch 39/40\n",
            "15000/15000 [==============================] - 1s 68us/step - loss: 0.1093 - acc: 0.9695 - val_loss: 0.2973 - val_acc: 0.8861\n",
            "Epoch 40/40\n",
            "15000/15000 [==============================] - 1s 68us/step - loss: 0.1055 - acc: 0.9709 - val_loss: 0.2996 - val_acc: 0.8856\n"
          ],
          "name": "stdout"
        }
      ]
    },
    {
      "metadata": {
        "id": "ABUkvOvfJUfy",
        "colab_type": "code",
        "colab": {
          "base_uri": "https://localhost:8080/",
          "height": 35
        },
        "outputId": "fbfd9f81-c3bb-4732-aed6-089f3eeee2ed"
      },
      "cell_type": "code",
      "source": [
        "import matplotlib.pyplot as plt\n",
        "history_dict = history.history\n",
        "history_dict.keys()"
      ],
      "execution_count": 85,
      "outputs": [
        {
          "output_type": "execute_result",
          "data": {
            "text/plain": [
              "dict_keys(['val_loss', 'val_acc', 'loss', 'acc'])"
            ]
          },
          "metadata": {
            "tags": []
          },
          "execution_count": 85
        }
      ]
    },
    {
      "metadata": {
        "id": "E2oe1bDtV0AI",
        "colab_type": "code",
        "colab": {
          "base_uri": "https://localhost:8080/",
          "height": 376
        },
        "outputId": "5844d850-7abb-4a3c-fa76-3450afbd58de"
      },
      "cell_type": "code",
      "source": [
        "accuracy = history.history['acc']\n",
        "validation_accuracy = history.history['val_acc']\n",
        "loss = history.history['loss']\n",
        "val_loss = history.history['val_loss']\n",
        "\n",
        "epochs = range(1,len(accuracy)+1)\n",
        "\n",
        "# \"bo\" is for \"blue dot\"\n",
        "plt.plot(epochs, loss, 'ro', label='Training loss')\n",
        "# b is for \"solid blue line\"\n",
        "plt.plot(epochs, val_loss, 'b', label='Validation loss')\n",
        "plt.title('Training and validation loss')\n",
        "plt.xlabel('Epochs')\n",
        "plt.ylabel('Loss')\n",
        "plt.legend()\n",
        "\n",
        "plt.show()"
      ],
      "execution_count": 84,
      "outputs": [
        {
          "output_type": "display_data",
          "data": {
            "image/png": "[encoded data removed]",
            "text/plain": [
              "<matplotlib.figure.Figure at 0x7fad4bf110b8>"
            ]
          },
          "metadata": {
            "tags": []
          }
        }
      ]
    },
    {
      "metadata": {
        "id": "X811YDUIYRN7",
        "colab_type": "code",
        "colab": {
          "base_uri": "https://localhost:8080/",
          "height": 376
        },
        "outputId": "fdd7c4c1-f2c1-4bc6-f1c9-664c13fb4e50"
      },
      "cell_type": "code",
      "source": [
        "plt.clf()   # clear figure\n",
        "acc_values = history_dict['acc']\n",
        "val_acc_values = history_dict['val_acc']\n",
        "\n",
        "plt.plot(epochs, acc_values, 'ro', label='Training acc')\n",
        "plt.plot(epochs, val_acc_values, 'b', label='Validation acc')\n",
        "plt.title('Training and validation accuracy')\n",
        "plt.xlabel('Epochs')\n",
        "plt.ylabel('Accuracy')\n",
        "plt.legend()\n",
        "\n",
        "plt.show()"
      ],
      "execution_count": 89,
      "outputs": [
        {
          "output_type": "display_data",
          "data": {
            "image/png": "[encoded data removed]",
            "text/plain": [
              "<matplotlib.figure.Figure at 0x7fad4e294a20>"
            ]
          },
          "metadata": {
            "tags": []
          }
        }
      ]
    },
    {
      "metadata": {
        "id": "Ko1RuTH-Yveo",
        "colab_type": "code",
        "colab": {}
      },
      "cell_type": "code",
      "source": [
        ""
      ],
      "execution_count": 0,
      "outputs": []
    }
  ]
}